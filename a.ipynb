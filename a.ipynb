{
 "cells": [
  {
   "cell_type": "code",
   "execution_count": null,
   "metadata": {},
   "outputs": [],
   "source": [
    "import pandas as pd\n",
    "from sklearn.model_selection import train_test_split\n",
    "from sklearn.metrics import classification_report, roc_curve, auc\n",
    "import torch\n",
    "from transformers import AutoModelForSequenceClassification, AutoTokenizer, Trainer, TrainingArguments"
   ]
  },
  {
   "cell_type": "code",
   "execution_count": null,
   "metadata": {},
   "outputs": [],
   "source": [
    "# Load dataset\n",
    "df = pd.read_parquet('./train-00000-of-00001.parquet')\n",
    "\n",
    "# Split dataset into two parts\n",
    "train_df, finetune_df = train_test_split(df, test_size=0.5, random_state=42)\n",
    "\n",
    "# Load tokenizer and model\n",
    "tokenizer = AutoTokenizer.from_pretrained(\"answerdotai/ModernBERT-base\")\n",
    "model = AutoModelForSequenceClassification.from_pretrained(\"answerdotai/ModernBERT-base\")\n",
    "\n",
    "# Tokenize datasets\n",
    "train_encodings = tokenizer(list(train_df['text']), truncation=True, padding=True)\n",
    "finetune_encodings = tokenizer(list(finetune_df['text']), truncation=True, padding=True)\n"
   ]
  },
  {
   "cell_type": "code",
   "execution_count": 3,
   "metadata": {},
   "outputs": [],
   "source": [
    "# Create torch datasets\n",
    "class Dataset(torch.utils.data.Dataset):\n",
    "    def __init__(self, encodings, labels):\n",
    "        self.encodings = encodings\n",
    "        self.labels = labels\n",
    "\n",
    "    def __getitem__(self, idx):\n",
    "        item = {key: torch.tensor(val[idx]) for key, val in self.encodings.items()}\n",
    "        item['labels'] = torch.tensor(self.labels[idx])\n",
    "        return item\n",
    "\n",
    "    def __len__(self):\n",
    "        return len(self.labels)"
   ]
  },
  {
   "cell_type": "code",
   "execution_count": null,
   "metadata": {},
   "outputs": [],
   "source": []
  },
  {
   "cell_type": "code",
   "execution_count": 4,
   "metadata": {},
   "outputs": [],
   "source": [
    "train_dataset = Dataset(train_encodings, list(train_df['label']))\n",
    "finetune_dataset = Dataset(finetune_encodings, list(finetune_df['label']))\n",
    "\n",
    "# Training arguments\n",
    "training_args = TrainingArguments(\n",
    "    output_dir='./results',\n",
    "    num_train_epochs=3,\n",
    "    per_device_train_batch_size=16,\n",
    "    per_device_eval_batch_size=64,\n",
    "    warmup_steps=500,\n",
    "    weight_decay=0.01,\n",
    "    logging_dir='./logs',\n",
    ")\n"
   ]
  },
  {
   "cell_type": "code",
   "execution_count": null,
   "metadata": {},
   "outputs": [],
   "source": [
    "\n",
    "# Trainer\n",
    "trainer = Trainer(\n",
    "    model=model,\n",
    "    args=training_args,\n",
    "    train_dataset=train_dataset,\n",
    "    eval_dataset=finetune_dataset\n",
    ")\n",
    "\n"
   ]
  },
  {
   "cell_type": "code",
   "execution_count": null,
   "metadata": {},
   "outputs": [],
   "source": [
    "# Train the model\n",
    "trainer.train()\n",
    "\n"
   ]
  },
  {
   "cell_type": "code",
   "execution_count": null,
   "metadata": {},
   "outputs": [],
   "source": [
    "# Evaluate the pretrained model\n",
    "pretrained_results = trainer.evaluate()\n",
    "\n",
    "# Fine-tune the model\n",
    "trainer.train()\n",
    "\n"
   ]
  },
  {
   "cell_type": "code",
   "execution_count": null,
   "metadata": {},
   "outputs": [],
   "source": [
    "# Evaluate the fine-tuned model\n",
    "finetuned_results = trainer.evaluate()\n",
    "\n"
   ]
  },
  {
   "cell_type": "code",
   "execution_count": null,
   "metadata": {},
   "outputs": [],
   "source": [
    "# Load and fine-tune ModernBERT-large model\n",
    "large_model = AutoModelForSequenceClassification.from_pretrained(\"answerdotai/ModernBERT-large\")\n",
    "large_trainer = Trainer(\n",
    "    model=large_model,\n",
    "    args=training_args,\n",
    "    train_dataset=Dataset(tokenizer(list(df['text']), truncation=True, padding=True), list(df['label'])),\n",
    "    eval_dataset=finetune_dataset\n",
    ")\n",
    "\n",
    "# Fine-tune the large model\n",
    "large_trainer.train()\n",
    "\n",
    "# Evaluate the fine-tuned large model\n",
    "large_results = large_trainer.evaluate()\n",
    "\n"
   ]
  },
  {
   "cell_type": "code",
   "execution_count": null,
   "metadata": {},
   "outputs": [],
   "source": [
    "# Generate classification reports and ROC curves\n",
    "def generate_metrics(trainer, dataset):\n",
    "    predictions, labels, _ = trainer.predict(dataset)\n",
    "    preds = predictions.argmax(-1)\n",
    "    report = classification_report(labels, preds)\n",
    "    fpr, tpr, _ = roc_curve(labels, preds)\n",
    "    roc_auc = auc(fpr, tpr)\n",
    "    return report, fpr, tpr, roc_auc\n",
    "\n",
    "pretrained_report, pretrained_fpr, pretrained_tpr, pretrained_auc = generate_metrics(trainer, finetune_dataset)\n",
    "finetuned_report, finetuned_fpr, finetuned_tpr, finetuned_auc = generate_metrics(trainer, finetune_dataset)\n",
    "large_report, large_fpr, large_tpr, large_auc = generate_metrics(large_trainer, finetune_dataset)\n",
    "\n",
    "# Print results\n",
    "print(\"Pretrained Model Classification Report:\\n\", pretrained_report)\n",
    "print(\"Finetuned Model Classification Report:\\n\", finetuned_report)\n",
    "print(\"Large Model Classification Report:\\n\", large_report)\n",
    "\n"
   ]
  },
  {
   "cell_type": "code",
   "execution_count": null,
   "metadata": {},
   "outputs": [],
   "source": [
    "# Plot ROC curves\n",
    "import matplotlib.pyplot as plt\n",
    "\n",
    "plt.figure()\n",
    "plt.plot(pretrained_fpr, pretrained_tpr, color='darkorange', lw=2, label='Pretrained ROC curve (area = %0.2f)' % pretrained_auc)\n",
    "plt.plot(finetuned_fpr, finetuned_tpr, color='blue', lw=2, label='Finetuned ROC curve (area = %0.2f)' % finetuned_auc)\n",
    "plt.plot(large_fpr, large_tpr, color='green', lw=2, label='Large Model ROC curve (area = %0.2f)' % large_auc)\n",
    "plt.plot([0, 1], [0, 1], color='navy', lw=2, linestyle='--')\n",
    "plt.xlim([0.0, 1.0])\n",
    "plt.ylim([0.0, 1.05])\n",
    "plt.xlabel('False Positive Rate')\n",
    "plt.ylabel('True Positive Rate')\n",
    "plt.title('Receiver Operating Characteristic')\n",
    "plt.legend(loc=\"lower right\")\n",
    "plt.show()"
   ]
  }
 ],
 "metadata": {
  "kernelspec": {
   "display_name": "Python 3",
   "language": "python",
   "name": "python3"
  },
  "language_info": {
   "codemirror_mode": {
    "name": "ipython",
    "version": 3
   },
   "file_extension": ".py",
   "mimetype": "text/x-python",
   "name": "python",
   "nbconvert_exporter": "python",
   "pygments_lexer": "ipython3",
   "version": "3.11.9"
  }
 },
 "nbformat": 4,
 "nbformat_minor": 2
}
